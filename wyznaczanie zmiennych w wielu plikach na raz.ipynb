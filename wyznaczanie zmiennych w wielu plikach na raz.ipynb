{
 "cells": [
  {
   "cell_type": "code",
   "execution_count": 1,
   "id": "5af02534-ad9e-4711-a573-987c2f7a222e",
   "metadata": {},
   "outputs": [
    {
     "name": "stdout",
     "output_type": "stream",
     "text": [
      "Data processing complete. Files have been updated.\n"
     ]
    }
   ],
   "source": [
    "import pandas as pd\n",
    "import numpy as np\n",
    "import os\n",
    "\n",
    "# Constants for the script\n",
    "\n",
    "\n",
    "# Function to load all Excel files from the specified directory\n",
    "def load_data_from_directory(directory):\n",
    "    datasets = []\n",
    "    file_paths = []\n",
    "    for filename in os.listdir(directory):\n",
    "        if filename.endswith('.xlsx'):\n",
    "            file_path = os.path.join(directory, filename)\n",
    "            data = pd.read_excel(file_path)\n",
    "            datasets.append(data)\n",
    "            file_paths.append(file_path)\n",
    "    return datasets, file_paths\n",
    "\n",
    "# Function to compute velocity\n",
    "def compute_velocity(acceleration, time_intervals):\n",
    "    velocity = np.zeros(len(acceleration))\n",
    "    for i in range(1, len(velocity)):\n",
    "        velocity[i] = velocity[i - 1] + acceleration[i - 1] * time_intervals[i - 1]\n",
    "    return velocity\n",
    "\n",
    "# Load the data from the directory\n",
    "directory = os.getcwd()\n",
    "datasets, file_paths = load_data_from_directory(directory)\n",
    "\n",
    "for data, file_path in zip(datasets, file_paths):\n",
    "    # Correct conversion of acceleration data\n",
    "    \n",
    "\n",
    "   \n",
    "\n",
    "    # Time intervals (assumes consistent sampling rate)\n",
    "    time_intervals = np.diff(data['Time'])\n",
    "\n",
    "    # Compute velocities for each component\n",
    "    for axis in ['2x', '2y', '2z', '3x', '3y', '3z', '4x', '4y', '4z']:\n",
    "        velocity = compute_velocity(data[axis].iloc[:-1].values, time_intervals)\n",
    "        data[f'velocity_{axis}'] = np.append([0], velocity)\n",
    "\n",
    "    # Compute resultant velocities\n",
    "    data['resultant_velocity1'] = np.sqrt(data['velocity_2x']**2 + data['velocity_2y']**2 + data['velocity_2z']**2)\n",
    "    data['resultant_velocity2'] = np.sqrt(data['velocity_3x']**2 + data['velocity_3y']**2 + data['velocity_3z']**2)\n",
    "    data['resultant_velocity3'] = np.sqrt(data['velocity_4x']**2 + data['velocity_4y']**2 + data['velocity_4z']**2)\n",
    "\n",
    "    # Overwrite the Excel file with the modified data\n",
    "    data.to_excel(file_path, index=False)\n",
    "\n",
    "print(\"Data processing complete. Files have been updated.\")\n"
   ]
  },
  {
   "cell_type": "code",
   "execution_count": null,
   "id": "de7f4026-f1ec-47da-b285-55d45ed269b5",
   "metadata": {},
   "outputs": [],
   "source": []
  }
 ],
 "metadata": {
  "kernelspec": {
   "display_name": "Python 3 (ipykernel)",
   "language": "python",
   "name": "python3"
  },
  "language_info": {
   "codemirror_mode": {
    "name": "ipython",
    "version": 3
   },
   "file_extension": ".py",
   "mimetype": "text/x-python",
   "name": "python",
   "nbconvert_exporter": "python",
   "pygments_lexer": "ipython3",
   "version": "3.9.18"
  }
 },
 "nbformat": 4,
 "nbformat_minor": 5
}
